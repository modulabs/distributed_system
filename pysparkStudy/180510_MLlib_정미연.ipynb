{
 "cells": [
  {
   "cell_type": "markdown",
   "metadata": {},
   "source": [
    "# 8. MLLib\n",
    "\n",
    "\n",
    "#### 작성 : 데이터랩 3반 정미연"
   ]
  },
  {
   "cell_type": "markdown",
   "metadata": {},
   "source": [
    "### 8.1 개요\n",
    "- 머신러닝 : 어떤 주어진 문제를 해결할 때, 필요한 프로그램을 일일이 작성하지 않더라도 *기계 스스로* 데이터를 이용해 문제를 해결할 수 있는 알고리즘을 만드는 것\n",
    "- 회귀, 분류, 그룹화, 추천 등 사용"
   ]
  },
  {
   "cell_type": "markdown",
   "metadata": {},
   "source": [
    "### 8.2 관측과 특성\n",
    "- feature는? 관측 데이터의 속성을 나타내는 것 (변수), 그렇지만 목표에 따라 최종 특성은 달라질 수 있음\n",
    "- 특징 추출이 핵심 활동 중 하나임. 업무 도메인 지식도 필요\n",
    "- 데이터의 변환, 필터링, 정규화, 특성 간 상관관계 분석 등을 포함함"
   ]
  },
  {
   "cell_type": "markdown",
   "metadata": {},
   "source": [
    "### 8.3 레이블\n",
    "- 올바른 출력값을 알려주는 값을 *레이블*이라고 함\n",
    "- 지도학습 : 입력에 대한 올바른 출력 값을 알고 있는 데이터셋에서의 입,출력을 학습하고 답이 알려지지 않은 새로운 입력값에 대한 출력값을 찾게 함 (레이블이 있음)\n",
    "- 스파크에서는 LabeledPoint라는 데이터 타입을 사용하여 레이블이 달린 데이터셋을 핸들링함"
   ]
  },
  {
   "cell_type": "markdown",
   "metadata": {},
   "source": [
    "### 8.4 연속형 데이터와 이산형 데이터\n",
    "- 연속형 데이터(Continuous) : 연속적인 값을 가진 것 (무게, 온도, 습도 등)\n",
    "- 이산형 데이터(Discrete data) : 불연속적인 값을 가진 것(셀 수 있음)(나이, 성별, 개수 등)\n",
    "\n",
    "- 연속형 데이터는 *실수*값, 이산형 데이터는 *정수,문자*값을 갖는데 스파크에서는 *double*타입의 데이터만 사용할 수 있음. 대신에 이를 활용할 수 있는 다양한 알고리즘을 구현한 API를 제공"
   ]
  },
  {
   "cell_type": "markdown",
   "metadata": {},
   "source": [
    "### 8.5 알고리즘과 모델\n",
    "- 알고리즘 : 우리가 알고있는 그런 알고리즘들..(로지스틱 회귀, SVM, NN..)\n",
    "- 모델 : 알고리즘의 산출물임. 알고리즘에 데이터를 적용한 것.\n",
    "- 알고리즘에서 모델을 만드는 과정은 많은 자원들을 필요로 하지만 만들고 나서는 입력만 하면 결과를 빨리 얻는다! 스파크에서도 여러가지 기능 제공 중"
   ]
  },
  {
   "cell_type": "markdown",
   "metadata": {},
   "source": [
    "### 8.6 파라메트릭 알고리즘"
   ]
  }
 ],
 "metadata": {
  "kernelspec": {
   "display_name": "Python 3",
   "language": "python",
   "name": "python3"
  },
  "language_info": {
   "codemirror_mode": {
    "name": "ipython",
    "version": 3
   },
   "file_extension": ".py",
   "mimetype": "text/x-python",
   "name": "python",
   "nbconvert_exporter": "python",
   "pygments_lexer": "ipython3",
   "version": "3.6.4"
  }
 },
 "nbformat": 4,
 "nbformat_minor": 2
}
